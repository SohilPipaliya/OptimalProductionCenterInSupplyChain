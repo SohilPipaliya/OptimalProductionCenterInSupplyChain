{
 "cells": [
  {
   "cell_type": "code",
   "execution_count": 9,
   "metadata": {
    "scrolled": true
   },
   "outputs": [],
   "source": [
    "import pandas as pd\n",
    "import matplotlib.pyplot as plt\n",
    "import scipy.spatial\n",
    "from scipy.spatial import distance\n",
    "import random\n",
    "import numpy as np\n",
    "import pandas as pd \n",
    "import scipy.spatial\n",
    "from haversine import haversine"
   ]
  },
  {
   "cell_type": "code",
   "execution_count": 10,
   "metadata": {},
   "outputs": [],
   "source": [
    "data=pd.read_csv('CityData_new.csv')"
   ]
  },
  {
   "cell_type": "code",
   "execution_count": 11,
   "metadata": {},
   "outputs": [],
   "source": [
    "lats=data['Latitude'].to_list()\n",
    "lons=data['Longitude'].to_list()\n",
    "#weights=data[\"Weight\"].to_list()\n",
    "Weights=data[\"Weight\"].to_numpy()"
   ]
  },
  {
   "cell_type": "code",
   "execution_count": 12,
   "metadata": {},
   "outputs": [],
   "source": [
    "\n",
    "def distance(p1,p2):\n",
    "  return haversine(p1[1:],p2[1:])\n",
    "\n",
    "def cluster_centroids(data, clusters, k):\n",
    "  results=[]\n",
    "  for i in range(k):\n",
    "    results.append(np.average(data[clusters == i],weights = Weights[clusters==i],axis=0))\n",
    "  return results\n",
    "\n",
    "def kmeans(data, k=None, centroids=None, steps=30):\n",
    "  # Forgy initialization method: choose k data points randomly.\n",
    "  centroids = data[np.random.choice(np.arange(len(data)), k, False)]\n",
    "  elbow = []\n",
    "  for _ in range(max(steps, 1)):\n",
    "    sqdists = scipy.spatial.distance.cdist(centroids, data, lambda u, v: haversine(u,v))\n",
    "    elbow.append(sqdists)\n",
    "    # Index of the closest centroid to each data point.\n",
    "    clusters = np.argmin(sqdists, axis=0)\n",
    "    new_centroids = cluster_centroids(data, clusters, k)\n",
    "\n",
    "    if np.array_equal(new_centroids, centroids): \n",
    "      break\n",
    "    centroids = new_centroids \n",
    "    \n",
    "  return clusters, centroids,elbow"
   ]
  },
  {
   "cell_type": "code",
   "execution_count": 13,
   "metadata": {},
   "outputs": [],
   "source": [
    "np_CityData = data[[\"Latitude\",\"Longitude\"]].to_numpy()\n",
    "vals = data[['Latitude','Longitude']].values\n",
    "sse=[]\n",
    "for k in range(1,20):\n",
    "    clusters,centroids,elbow=kmeans(vals,k)  \n",
    "    for i in range(k):\n",
    "        sqdist = np.sum(scipy.spatial.distance.cdist(np_CityData[clusters==i],centroids,'sqeuclidean'))\n",
    "    sse.append(sqdist)\n",
    "sse=sorted(sse,reverse=True)"
   ]
  },
  {
   "cell_type": "code",
   "execution_count": 18,
   "metadata": {},
   "outputs": [
    {
     "data": {
      "text/plain": [
       "([0.0,\n",
       "  2.0743071597657368,\n",
       "  1.5544412151410805,\n",
       "  1.8811055900892686,\n",
       "  6.049289877816152,\n",
       "  5.44104433630423,\n",
       "  6.151604036449679,\n",
       "  5.334477490006249,\n",
       "  5.921652146511178,\n",
       "  5.0382033976020955,\n",
       "  4.479933230414338,\n",
       "  3.831539822023675,\n",
       "  3.3551398173275944,\n",
       "  3.3067699479932178,\n",
       "  2.7090159214153386,\n",
       "  1.9798469101318876,\n",
       "  1.288530660354743,\n",
       "  0.40517458868487066,\n",
       "  0.0],\n",
       " 7)"
      ]
     },
     "execution_count": 18,
     "metadata": {},
     "output_type": "execute_result"
    }
   ],
   "source": [
    "#Automating decision making of no. of cluster \n",
    "norm = np.linalg.norm\n",
    "\n",
    "p_first = np.array([1,sse[0]])\n",
    "p_last = np.array([len(sse),sse[len(sse)-1]])\n",
    "perpedicular_distance = []    \n",
    "for i in range(0,len(sse)):\n",
    "    p = np.array([i+1,sse[i]])\n",
    "    a = p_last-p_first\n",
    "    b = p-p_first\n",
    "    d = norm(np.cross(a,b))/norm(a)\n",
    "    perpedicular_distance.append(d)\n",
    "\n",
    "max_index = 1+perpedicular_distance.index(max(perpedicular_distance)) #+1 because index starts from 0\n",
    "#max_index is out optimal cluster method according to this method"
   ]
  },
  {
   "cell_type": "code",
   "execution_count": 19,
   "metadata": {},
   "outputs": [
    {
     "data": {
      "image/png": "[encoded data removed]",
      "text/plain": [
       "<Figure size 720x432 with 1 Axes>"
      ]
     },
     "metadata": {
      "needs_background": "light"
     },
     "output_type": "display_data"
    },
    {
     "data": {
      "text/plain": [
       "<Figure size 432x288 with 0 Axes>"
      ]
     },
     "metadata": {},
     "output_type": "display_data"
    }
   ],
   "source": [
    "'''fig = plt.figure(figsize=(10,6))\n",
    "x=list(range(1,20))\n",
    "labels=x\n",
    "plt.plot(x,sse,'r')\n",
    "plt.scatter(x,sse,marker='x')\n",
    "plt.xticks(x, labels)\n",
    "plt.title('Elbow Method')\n",
    "plt.xlabel('K')\n",
    "plt.ylabel('SSE Distance')\n",
    "plt.plot([8, 8], [0,1.0417261149971132e+2 ],color='green',\n",
    "         linestyle='dashed',linewidth=1)  # plotting the arbitrary line from point (25,10) to (65,45).    \n",
    "plt.show()\n",
    "plt.savefig('elbow.png')'''"
   ]
  },
  {
   "cell_type": "code",
   "execution_count": null,
   "metadata": {},
   "outputs": [],
   "source": [
    "'''min_customer=6   #this value from Anylogic\n",
    "k=1\n",
    "random.seed(42)\n",
    "#run it\n",
    "while min_customer<min(points_in_cluster)\n",
    "    k+=1\n",
    "    clusters,centroids,elbow=kmeans(vals,k)\n",
    "    #from all cluster \n",
    "    points_in_cluster = []\n",
    "    clusters_list = clusters.tolist()\n",
    "    for i in range(len(centroids)):\n",
    "        occurrence = 0\n",
    "        occurrence = clusters_list.count(i)\n",
    "\n",
    "        points_in_cluster.append(occurrence)\n",
    "    min(points_in_cluster)\n",
    "    '''\n",
    "#this k will be our final result\n",
    "# then we dont need to calc extra time cluster/centroids"
   ]
  },
  {
   "cell_type": "code",
   "execution_count": 29,
   "metadata": {},
   "outputs": [],
   "source": [
    "#chose optimal no of cluster you want to have\n",
    "#k = max_index\n",
    "k=8\n",
    "random.seed(42)\n",
    "#run it\n",
    "clusters,centroids,elbow=kmeans(vals,k)\n",
    "#centroids"
   ]
  },
  {
   "cell_type": "code",
   "execution_count": 31,
   "metadata": {},
   "outputs": [
    {
     "data": {
      "text/plain": [
       "14"
      ]
     },
     "execution_count": 31,
     "metadata": {},
     "output_type": "execute_result"
    }
   ],
   "source": [
    "#after getting final centroids, get minimum no. of data points\n",
    "#from all cluster \n",
    "points_in_cluster = []\n",
    "clusters_list = clusters.tolist()\n",
    "for i in range(len(centroids)):\n",
    "    occurrence = 0\n",
    "    occurrence = clusters_list.count(i)\n",
    "    \n",
    "    points_in_cluster.append(occurrence)\n",
    "    \n",
    "points_in_cluster\n"
   ]
  },
  {
   "cell_type": "code",
   "execution_count": 22,
   "metadata": {},
   "outputs": [
    {
     "data": {
      "text/plain": [
       "[array([42.286389, 18.84    ]),\n",
       " array([46.195602,  6.148113]),\n",
       " array([46.463934, 30.738551]),\n",
       " array([51.514942,  7.465997]),\n",
       " array([53.7559, 23.832 ]),\n",
       " array([40.412752, -3.707721]),\n",
       " array([47.233333, 16.616667])]"
      ]
     },
     "execution_count": 22,
     "metadata": {},
     "output_type": "execute_result"
    }
   ],
   "source": [
    "#using cDist see the distance between adjusted and old centroids\n",
    "from scipy.spatial import distance\n",
    "adjusted_centroids_cdist = [] \n",
    "distance_between_cdist_centroids = []\n",
    "adjusted_centroids_haversine = [] \n",
    "distance_between_haversine_centroids = []\n",
    "\n",
    "for i in range(len(centroids)):\n",
    "    old_centroid = centroids[i]\n",
    "    a = old_centroid\n",
    "    #to use in haversine function we need to duplicate and add the same array with each other\n",
    "    duplicated_double_array = np.stack((old_centroid, old_centroid))\n",
    "    #city within that cluster\n",
    "    cities_assigned_to_centroid = np_CityData[clusters==i]\n",
    "    #closest city from our centroid usinf haversine\n",
    "    closest_index_haversine = scipy.spatial.distance.cdist(duplicated_double_array, cities_assigned_to_centroid, lambda u, v: haversine(u,v)).argmin()\n",
    "    #assingning that closest city as our new centroids\n",
    "    new_centroid_haversine = cities_assigned_to_centroid[closest_index_haversine]\n",
    "    #distance between those two\n",
    "    distance_between_haversine_centroids.append(haversine(a,new_centroid_haversine))\n",
    "    #adding that centroids to centroid array\n",
    "    x = cities_assigned_to_centroid[closest_index_haversine]\n",
    "    adjusted_centroids_haversine.append(x)\n",
    "    \n",
    "adjusted_centroids_haversine\n",
    "#distance_between_haversine_centroids\n",
    "\n"
   ]
  },
  {
   "cell_type": "code",
   "execution_count": null,
   "metadata": {},
   "outputs": [],
   "source": [
    "\n"
   ]
  },
  {
   "cell_type": "code",
   "execution_count": null,
   "metadata": {},
   "outputs": [],
   "source": []
  },
  {
   "cell_type": "code",
   "execution_count": null,
   "metadata": {},
   "outputs": [],
   "source": []
  }
 ],
 "metadata": {
  "kernelspec": {
   "display_name": "Python 3",
   "language": "python",
   "name": "python3"
  },
  "language_info": {
   "codemirror_mode": {
    "name": "ipython",
    "version": 3
   },
   "file_extension": ".py",
   "mimetype": "text/x-python",
   "name": "python",
   "nbconvert_exporter": "python",
   "pygments_lexer": "ipython3",
   "version": "3.8.8"
  }
 },
 "nbformat": 4,
 "nbformat_minor": 4
}
